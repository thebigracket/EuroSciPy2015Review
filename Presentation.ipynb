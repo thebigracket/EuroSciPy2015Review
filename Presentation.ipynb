{
 "cells": [
  {
   "cell_type": "markdown",
   "metadata": {
    "slideshow": {
     "slide_type": "slide"
    }
   },
   "source": [
    "# A Review of EuroSciPy2015\n",
    "\n",
    "\n",
    "#### 0. IPython Notebooks\n",
    "\n",
    "\n",
    "#### 1. Tutorial 1: An Introduction to Python (Joris Vankerschaver)\n",
    "\n",
    "\n",
    "#### 2. Tutorial 2: Never get in a data battle without Numpy arrays (Valerio Maggio)\n",
    "\n",
    "\n",
    "#### 3. numexpr\n",
    "\n",
    "\n",
    "#### 4. Interesting talks\n",
    "\n"
   ]
  },
  {
   "cell_type": "markdown",
   "metadata": {
    "slideshow": {
     "slide_type": "slide"
    }
   },
   "source": [
    "## 0. Jupyter aka IPython Notebook\n",
    "\n",
    "- Interactive programming interface\n",
    "\n",
    "- Simultaneous development & documentation\n",
    "\n",
    "- All tutorials and most lectures at EuroSciPy2015 were given using IPython Notebooks.\n",
    "\n",
    "- We have adopted the Notebook for this presentation as a practical exercise."
   ]
  },
  {
   "cell_type": "code",
   "execution_count": null,
   "metadata": {
    "collapsed": true
   },
   "outputs": [],
   "source": [
    "pip install ipython-notebook"
   ]
  },
  {
   "cell_type": "markdown",
   "metadata": {},
   "source": [
    "Create a local host for the notebook in the directory of interest by running the command:"
   ]
  },
  {
   "cell_type": "code",
   "execution_count": null,
   "metadata": {
    "collapsed": true
   },
   "outputs": [],
   "source": [
    "ipython notebook"
   ]
  },
  {
   "cell_type": "markdown",
   "metadata": {},
   "source": [
    "Images, data files, etc. should be stored in a subdirectory of the Notebook host."
   ]
  },
  {
   "cell_type": "markdown",
   "metadata": {},
   "source": [
    "## 1. Tutorial #1: An Introduction to Python (Joris Vankerschaver)\n",
    "\n",
    "IPython Notebook: https://github.com/jvkersch/python-tutorial-files\n",
    "\n",
    "An overview of basic Python syntax and data structures, including:\n",
    "- lists, tuples, dictionaries\n",
    "- mutable vs immutable objects\n",
    "- set, enumerate\n",
    "- read from / write to files\n",
    "- namespaces"
   ]
  },
  {
   "cell_type": "code",
   "execution_count": null,
   "metadata": {
    "collapsed": false
   },
   "outputs": [],
   "source": [
    "# Mutable objects can be changed in place (e.g. lists),\n",
    "# Immutable objects can NOT (e.g. ints, strings, tuples)\n",
    "tup = ('a','0','@')\n",
    "tup"
   ]
  },
  {
   "cell_type": "code",
   "execution_count": null,
   "metadata": {
    "collapsed": false
   },
   "outputs": [],
   "source": [
    "tup[0] = 8"
   ]
  },
  {
   "cell_type": "code",
   "execution_count": null,
   "metadata": {
    "collapsed": false
   },
   "outputs": [],
   "source": [
    "record = {}\n",
    "record['first'] = 'Alan'\n",
    "record['last'] = 'Turing'\n",
    "record"
   ]
  },
  {
   "cell_type": "code",
   "execution_count": null,
   "metadata": {
    "collapsed": false
   },
   "outputs": [],
   "source": [
    "record.update({'workplace':'Bletchley Park'})\n",
    "record"
   ]
  },
  {
   "cell_type": "code",
   "execution_count": null,
   "metadata": {
    "collapsed": false
   },
   "outputs": [],
   "source": [
    "# Comma after print statement removes implicit \\n, prints to same line\n",
    "for x in range(0,4):\n",
    "    print x,"
   ]
  },
  {
   "cell_type": "code",
   "execution_count": null,
   "metadata": {
    "collapsed": false
   },
   "outputs": [],
   "source": [
    "# xrange(#) more efficient than range(#), because:\n",
    "# range() creates the whole sequence of numbers,\n",
    "# while xrange() creates them as needed!\n",
    "\n",
    "%timeit range(1000000)"
   ]
  },
  {
   "cell_type": "code",
   "execution_count": null,
   "metadata": {
    "collapsed": false
   },
   "outputs": [],
   "source": [
    "%timeit xrange(1000000)"
   ]
  },
  {
   "cell_type": "code",
   "execution_count": null,
   "metadata": {
    "collapsed": false
   },
   "outputs": [],
   "source": [
    "# Namespaces are evil\n",
    "pi = 3.14\n",
    "from numpy import pi\n",
    "pi"
   ]
  },
  {
   "cell_type": "markdown",
   "metadata": {},
   "source": [
    "##### Accessing Python's Source Code\n",
    "\n",
    "cf. http://stackoverflow.com/questions/8608587/finding-the-source-code-for-built-in-python-functions\n",
    "\n",
    "We can get help for a built-in Python function, such as range, with a single question mark:"
   ]
  },
  {
   "cell_type": "code",
   "execution_count": null,
   "metadata": {
    "collapsed": true
   },
   "outputs": [],
   "source": [
    "range?"
   ]
  },
  {
   "cell_type": "markdown",
   "metadata": {},
   "source": [
    "...and we can read the source code of built-in functions by downloading the source from the Python.org Mercurial repositories): https://hg.python.org/"
   ]
  },
  {
   "cell_type": "code",
   "execution_count": null,
   "metadata": {
    "collapsed": false
   },
   "outputs": [],
   "source": [
    "# import inspect\n",
    "# inspect.getsourcefile(range) # doesn't work for built-in functions"
   ]
  },
  {
   "cell_type": "code",
   "execution_count": null,
   "metadata": {
    "collapsed": true
   },
   "outputs": [],
   "source": [
    "# Python's built-in \"Counter\" class defines the control flow of iterators,\n",
    "# used in functions such as \"for i in range(0,10) ...\"\n",
    "\n",
    "class Counter(object):\n",
    "    def __init__(self, low, high):\n",
    "        self.current = low\n",
    "        self.high = high\n",
    "\n",
    "    def __iter__(self):\n",
    "        'Returns itself as an iterator object'\n",
    "        return self\n",
    "\n",
    "    def __next__(self):\n",
    "        'Returns the next value till current is lower than high'\n",
    "        if self.current > self.high:\n",
    "            raise StopIteration\n",
    "        else:\n",
    "            self.current += 1\n",
    "            return self.current - 1"
   ]
  },
  {
   "cell_type": "markdown",
   "metadata": {},
   "source": [
    "We can view the source code for a particular function, such as range, in the Python.org Mercurial Repository: https://hg.python.org/cpython/file/c6880edaf6f3/Objects/rangeobject.c"
   ]
  },
  {
   "cell_type": "code",
   "execution_count": null,
   "metadata": {
    "collapsed": false
   },
   "outputs": [],
   "source": [
    "for i in range(0,10):\n",
    "    print i*i"
   ]
  },
  {
   "cell_type": "code",
   "execution_count": null,
   "metadata": {
    "collapsed": false
   },
   "outputs": [],
   "source": [
    "# List comprehension (with filter)\n",
    "[a*2 for a in range(0,10) if a>3]"
   ]
  },
  {
   "cell_type": "markdown",
   "metadata": {},
   "source": [
    "#### Sneak-peek @ Advanced Topics\n",
    "\n",
    "- NumPy & SciPy\n",
    "- Pandas\n",
    "- Cython\n",
    "  - Translate Python scripts into C code, and compile to machine code."
   ]
  },
  {
   "cell_type": "code",
   "execution_count": null,
   "metadata": {
    "collapsed": false
   },
   "outputs": [],
   "source": [
    "# The Zen of Python\n",
    "import this"
   ]
  },
  {
   "cell_type": "markdown",
   "metadata": {},
   "source": [
    "# 2. Tutorial 2: Never get in a data battle without Numpy arrays (Valerio Maggio)\n",
    "\n",
    "IPython Notebook: https://github.com/leriomaggio/numpy_euroscipy2015\n",
    "\n",
    "#### Arrays and Data Types"
   ]
  },
  {
   "cell_type": "code",
   "execution_count": null,
   "metadata": {
    "collapsed": false
   },
   "outputs": [],
   "source": [
    "# We can infer the data type of an array structure (but not of int, list, etc.)\n",
    "import numpy as np\n",
    "\n",
    "a = np.array([1, 2, 3], dtype=np.int16)\n",
    "a.dtype"
   ]
  },
  {
   "cell_type": "code",
   "execution_count": null,
   "metadata": {
    "collapsed": false
   },
   "outputs": [],
   "source": [
    "arev = a[::-1]\n",
    "arev"
   ]
  },
  {
   "cell_type": "code",
   "execution_count": null,
   "metadata": {
    "collapsed": false
   },
   "outputs": [],
   "source": [
    "# Typecast variables into float, complex numbers,\n",
    "b = np.float64(64)\n",
    "c = np.complex(b)\n",
    "print \"R(c) = \", c.real\n",
    "print \"I(c) = \", c.imag"
   ]
  },
  {
   "cell_type": "code",
   "execution_count": null,
   "metadata": {
    "collapsed": false
   },
   "outputs": [],
   "source": [
    "# Specify type of array elements\n",
    "x = np.ones(4, 'int8')\n",
    "x"
   ]
  },
  {
   "cell_type": "code",
   "execution_count": null,
   "metadata": {
    "collapsed": false
   },
   "outputs": [],
   "source": [
    "# Wrap-around\n",
    "x[0] = 256\n",
    "x"
   ]
  },
  {
   "cell_type": "code",
   "execution_count": null,
   "metadata": {
    "collapsed": false
   },
   "outputs": [],
   "source": [
    "# Define a new record and create an array of corresponding data types\n",
    "rt = np.dtype([('artist', np.str_, 40),('title', np.str_, 40), ('year', np.int16)])\n",
    "music = np.array([('John Cage','4\\'33\\'\\'',1952)], dtype=rt)\n",
    "music"
   ]
  },
  {
   "cell_type": "markdown",
   "metadata": {},
   "source": [
    "#### Matrix Tricks"
   ]
  },
  {
   "cell_type": "code",
   "execution_count": null,
   "metadata": {
    "collapsed": false
   },
   "outputs": [],
   "source": [
    "# Flatten a matrix into a 1-D array\n",
    "r = np.array([[1, 2, 3], [4, 5, 6]])\n",
    "r.ravel()"
   ]
  },
  {
   "cell_type": "code",
   "execution_count": null,
   "metadata": {
    "collapsed": false
   },
   "outputs": [],
   "source": [
    "# Save a .csv file using arbitrary precision\n",
    "M = np.random.rand(3,3)\n",
    "np.savetxt(\"data/random-matrix2.csv\", M, fmt='%.5f')"
   ]
  },
  {
   "cell_type": "code",
   "execution_count": null,
   "metadata": {
    "collapsed": false
   },
   "outputs": [],
   "source": [
    "# Create a matrix using list comprehension\n",
    "coolmx = np.array([[10*j+i for i in range(6)] for j in range(6)])\n",
    "coolmx"
   ]
  },
  {
   "cell_type": "markdown",
   "metadata": {},
   "source": [
    "#### Memmapping\n",
    "\n",
    "@ https://github.com/leriomaggio/numpy_euroscipy2015/blob/master/05_Memmapping.ipynb\n",
    "\n",
    "#### Machine Learning with SciKit-Learn\n",
    "\n",
    "- Applying the K-means algorithm to the Iris dataset\n",
    "@ https://github.com/leriomaggio/numpy_euroscipy2015/blob/master/07_0_MachineLearning_Data.ipynb"
   ]
  },
  {
   "cell_type": "code",
   "execution_count": null,
   "metadata": {
    "collapsed": false
   },
   "outputs": [],
   "source": [
    "# Machine Learning in Python is a oneliner!\n",
    "centroids, variance = vq.kmeans(data, 3)\n",
    "#... after preparing the data and importing the scikit-learn package"
   ]
  },
  {
   "cell_type": "markdown",
   "metadata": {},
   "source": [
    "#### A look into the future\n",
    "\n",
    "- Blaze will supersede NumPy for Big Data\n",
    "@ https://github.com/leriomaggio/numpy_euroscipy2015/blob/master/08_A_look_at_the_future.ipynb\n",
    "\n",
    "\n",
    "#### numpy-100\n",
    "\n",
    "\"...a quick reference for new and old users and to provide also a set of exercices for those who teach.\"\n",
    "\n",
    "https://github.com/rougier/numpy-100"
   ]
  },
  {
   "cell_type": "markdown",
   "metadata": {
    "collapsed": true
   },
   "source": [
    "# 3. numexpr\n",
    "\n",
    "@ https://github.com/pydata/numexpr (previously @ https://code.google.com/p/numexpr/)\n",
    "\n",
    "- JIT (Just-in-time) compilation for significant speed-up of numerial calculations\n",
    "  - numexpr evaluates multiple-operator array expressions many times faster than NumPy can. It accepts the expression as a string, analyzes it, rewrites it more efficiently, and compiles it on the fly into code for its internal virtual machine (VM). Due to its integrated just-in-time (JIT) compiler, it does not require a compiler at runtime.\n",
    "\n",
    "- Multithreading to make use of multiple CPU cores\n",
    "  - numexpr implements support for multi-threading computations straight into its internal virtual machine, written in C. This allows to bypass the GIL in Python, and allows near-optimal parallel performance in your vector expressions, most specially on CPU-bounded operations (memory-bounded ones were already the strong point of numexpr).\n",
    "\n",
    "- Can be used to evaluate expressions in NumPy and Pandas\n",
    "\n",
    "cf. https://github.com/leriomaggio/numpy_euroscipy2015/blob/master/06_Numexpr.ipynb\n",
    "\n",
    "#### The Speed of NumExpr\n",
    "\n",
    "- The speed advantage of NumExpr is due to using fewer temporary variables to store data. Instead of using temp variables, the results are stored successively in the output argument.\n",
    "- For this reason, NumExpr outperforms standard Python when array sizes are larger than the processor cache. For small computations, it is actually slower...\n",
    "  - ...so use only when necessary!\n",
    "- More info about how it is done: https://github.com/pydata/numexpr#how-numexpr-can-achieve-such-a-high-performance"
   ]
  },
  {
   "cell_type": "code",
   "execution_count": null,
   "metadata": {
    "collapsed": false
   },
   "outputs": [],
   "source": [
    "import numexpr as ne\n",
    "import numpy as np\n",
    "\n",
    "a = np.arange(1e8)\n",
    "b = np.arange(1e8)\n",
    "\n",
    "print \"NumPy   >> \" \n",
    "%timeit a**2 + b**2 + 2*a*b"
   ]
  },
  {
   "cell_type": "code",
   "execution_count": null,
   "metadata": {
    "collapsed": false
   },
   "outputs": [],
   "source": [
    "print \"NumExpr >> \"\n",
    "%timeit ne.evaluate('a**2 + b**2 + 2*a*b')"
   ]
  },
  {
   "cell_type": "markdown",
   "metadata": {},
   "source": [
    "\n"
   ]
  },
  {
   "cell_type": "markdown",
   "metadata": {},
   "source": [
    "## 4. Interesting talks\n",
    "\n",
    "#### ReScience (Nicolas Rougier)\n",
    "\n",
    "https://www.euroscipy.org/2015/schedule/presentation/17/\n",
    "\n",
    "@ https://github.com/ReScience/ReScience/wiki\n",
    "\n",
    "<img src=\"pix/ReScience.png\">\n",
    "\n",
    "- \"...an article about computational result is advertising, not scholarship. The actual scholarship is the full software environment, code and data that produced the result.\" (Buckheit & Donoho, 1995)\n",
    "\n",
    "- Papers are submitted to GitHub and can be reproduced by making a Pull Request from the ReScience repository.\n",
    "\n",
    "- The problem of reproducible science has long been a problem... https://github.com/ReScience/rescience.github.io/blob/master/00-about.md ...but now we have a potential solution.\n",
    "\n",
    "#### Massively parallel implementation in Python of a pseudo-spectral DNS code for turbulent flows (Mikael Mortensen)\n",
    "https://www.euroscipy.org/2015/schedule/presentation/6/\n",
    "\n",
    "https://github.com/hplgit/SpectralDNS-paper\n",
    "\n",
    "- A Navier-Stokes equations solver using only Python's numpy & mpi4py that can perform nearly as fast as a C++ implementation on multiple cores.\n",
    "- Adding some Cython further optimises performance, getting even closer to C++ (see red & blue @ graph below)\n",
    "\n",
    "<img src=\"pix/MikaelMortensen.png\">\n",
    "\n",
    "#### Dashboarding with the IPython notebook for online introspection into long-running experiments (Thomas Greg Corcoran)\n",
    "https://www.euroscipy.org/2015/schedule/presentation/19/\n",
    "\n",
    "Query data while an experiment is running.\n",
    "\n",
    "#### HoloViews: Building complex visualizations easily for reproducible science (Jean-Luc Stevens, Philipp Rudiger)\n",
    "https://www.euroscipy.org/2015/schedule/presentation/18/\n",
    "\n",
    "http://ioam.github.io/holoviews/\n",
    "\n"
   ]
  }
 ],
 "metadata": {
  "kernelspec": {
   "display_name": "Python 2",
   "language": "python",
   "name": "python2"
  },
  "language_info": {
   "codemirror_mode": {
    "name": "ipython",
    "version": 2
   },
   "file_extension": ".py",
   "mimetype": "text/x-python",
   "name": "python",
   "nbconvert_exporter": "python",
   "pygments_lexer": "ipython2",
   "version": "2.7.10"
  }
 },
 "nbformat": 4,
 "nbformat_minor": 0
}
