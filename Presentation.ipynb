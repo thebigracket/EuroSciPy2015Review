{
 "cells": [
  {
   "cell_type": "markdown",
   "metadata": {},
   "source": [
    "# A Review of EuroSciPy2015\n",
    "\n",
    "\n",
    "### 0. IPython Notebooks\n",
    "\n",
    "\n",
    "### 1. Tutorial 1: An Introduction to Python (Joris Vankerschaver)\n",
    "\n",
    "\n",
    "### 2. Tutorial 2: Never get in a data battle without Numpy arrays (Valerio Maggio)\n",
    "\n",
    "\n",
    "### 3. numexpr\n",
    "\n",
    "\n",
    "### 4. Interesting talks\n",
    "\n"
   ]
  },
  {
   "cell_type": "markdown",
   "metadata": {},
   "source": [
    "## 0. Jupyter aka IPython Notebook\n",
    "\n",
    "Interactive programming interface\n",
    "Simultaneous development & documentation\n",
    "\n",
    "All tutorials and most lectures at EuroSciPy2015 were given using IPython Notebooks.\n",
    "\n",
    "We have adopted the Notebook for this presentation as a practical exercise."
   ]
  },
  {
   "cell_type": "code",
   "execution_count": null,
   "metadata": {
    "collapsed": true
   },
   "outputs": [],
   "source": [
    "pip install ipython-notebook"
   ]
  },
  {
   "cell_type": "code",
   "execution_count": null,
   "metadata": {
    "collapsed": true
   },
   "outputs": [],
   "source": [
    "ipython notebook"
   ]
  },
  {
   "cell_type": "markdown",
   "metadata": {},
   "source": [
    "## 1. Tutorial #1: An Introduction to Python (Joris Vankerschaver)\n",
    "\n",
    "iPython Notebook: https://github.com/jvkersch/python-tutorial-files\n",
    "\n",
    "An overview of basic Python syntax and data structures, including:\n",
    "- lists, tuples, dictionaries\n",
    "- mutable vs immutable objects\n",
    "- set, enumerate\n",
    "- read from / write to files\n",
    "- namespaces"
   ]
  },
  {
   "cell_type": "code",
   "execution_count": 96,
   "metadata": {
    "collapsed": false
   },
   "outputs": [
    {
     "data": {
      "text/plain": [
       "('a', '0', '@')"
      ]
     },
     "execution_count": 96,
     "metadata": {},
     "output_type": "execute_result"
    }
   ],
   "source": [
    "# Mutable objects can be changed in place (e.g. lists),\n",
    "# Immutable objects can NOT (e.g. ints, strings, tuples)\n",
    "tup = ('a','0','@')\n",
    "tup"
   ]
  },
  {
   "cell_type": "code",
   "execution_count": 98,
   "metadata": {
    "collapsed": false
   },
   "outputs": [
    {
     "ename": "TypeError",
     "evalue": "'tuple' object does not support item assignment",
     "output_type": "error",
     "traceback": [
      "\u001b[1;31m---------------------------------------------------------------------------\u001b[0m",
      "\u001b[1;31mTypeError\u001b[0m                                 Traceback (most recent call last)",
      "\u001b[1;32m<ipython-input-98-9044249d9e22>\u001b[0m in \u001b[0;36m<module>\u001b[1;34m()\u001b[0m\n\u001b[1;32m----> 1\u001b[1;33m \u001b[0mtup\u001b[0m\u001b[1;33m[\u001b[0m\u001b[1;36m0\u001b[0m\u001b[1;33m]\u001b[0m \u001b[1;33m=\u001b[0m \u001b[1;36m8\u001b[0m\u001b[1;33m\u001b[0m\u001b[0m\n\u001b[0m",
      "\u001b[1;31mTypeError\u001b[0m: 'tuple' object does not support item assignment"
     ]
    }
   ],
   "source": [
    "tup[0] = 8"
   ]
  },
  {
   "cell_type": "code",
   "execution_count": 93,
   "metadata": {
    "collapsed": false
   },
   "outputs": [
    {
     "data": {
      "text/plain": [
       "{'first': 'Alan', 'last': 'Turing'}"
      ]
     },
     "execution_count": 93,
     "metadata": {},
     "output_type": "execute_result"
    }
   ],
   "source": [
    "record = {}\n",
    "record['first'] = 'Alan'\n",
    "record['last'] = 'Turing'\n",
    "record"
   ]
  },
  {
   "cell_type": "code",
   "execution_count": 95,
   "metadata": {
    "collapsed": false
   },
   "outputs": [
    {
     "data": {
      "text/plain": [
       "{'first': 'Alan', 'last': 'Turing', 'workplace': 'Bletchley Park'}"
      ]
     },
     "execution_count": 95,
     "metadata": {},
     "output_type": "execute_result"
    }
   ],
   "source": [
    "record.update({'workplace':'Bletchley Park'})\n",
    "record"
   ]
  },
  {
   "cell_type": "code",
   "execution_count": 92,
   "metadata": {
    "collapsed": false
   },
   "outputs": [
    {
     "name": "stdout",
     "output_type": "stream",
     "text": [
      "0 1 2 3\n"
     ]
    }
   ],
   "source": [
    "# Comma after print statement removes implicit \\n, prints to same line\n",
    "for x in range(0,4):\n",
    "    print x,"
   ]
  },
  {
   "cell_type": "code",
   "execution_count": 85,
   "metadata": {
    "collapsed": false
   },
   "outputs": [
    {
     "name": "stdout",
     "output_type": "stream",
     "text": [
      "100 loops, best of 3: 14.5 ms per loop\n"
     ]
    }
   ],
   "source": [
    "# xrange(#) more efficient than range(#), because:\n",
    "# range() creates the whole sequence of numbers,\n",
    "# while xrange() creates them as needed!\n",
    "\n",
    "%timeit range(1000000)"
   ]
  },
  {
   "cell_type": "code",
   "execution_count": 86,
   "metadata": {
    "collapsed": false
   },
   "outputs": [
    {
     "name": "stdout",
     "output_type": "stream",
     "text": [
      "The slowest run took 30.35 times longer than the fastest. This could mean that an intermediate result is being cached \n",
      "10000000 loops, best of 3: 134 ns per loop\n"
     ]
    }
   ],
   "source": [
    "%timeit xrange(1000000)"
   ]
  },
  {
   "cell_type": "code",
   "execution_count": 101,
   "metadata": {
    "collapsed": false
   },
   "outputs": [
    {
     "data": {
      "text/plain": [
       "3.141592653589793"
      ]
     },
     "execution_count": 101,
     "metadata": {},
     "output_type": "execute_result"
    }
   ],
   "source": [
    "# Namespaces are evil\n",
    "pi = 3.14\n",
    "from numpy import pi\n",
    "pi"
   ]
  },
  {
   "cell_type": "markdown",
   "metadata": {},
   "source": [
    "##### Accessing Python's Source Code\n",
    "\n",
    "cf. http://stackoverflow.com/questions/8608587/finding-the-source-code-for-built-in-python-functions\n",
    "\n",
    "We can get help for a built-in Python function, such as range, with a single question mark:"
   ]
  },
  {
   "cell_type": "code",
   "execution_count": 2,
   "metadata": {
    "collapsed": true
   },
   "outputs": [],
   "source": [
    "range?"
   ]
  },
  {
   "cell_type": "markdown",
   "metadata": {},
   "source": [
    "And we can read the source code of built-in functions with a double question mark:"
   ]
  },
  {
   "cell_type": "code",
   "execution_count": 87,
   "metadata": {
    "collapsed": true
   },
   "outputs": [],
   "source": [
    "range??"
   ]
  },
  {
   "cell_type": "markdown",
   "metadata": {},
   "source": [
    "...or by downloading the source from the Python.org Mercurial repositories): https://hg.python.org/"
   ]
  },
  {
   "cell_type": "code",
   "execution_count": 1,
   "metadata": {
    "collapsed": false
   },
   "outputs": [],
   "source": [
    "import inspect\n",
    "# inspect.getsourcefile(range)"
   ]
  },
  {
   "cell_type": "code",
   "execution_count": null,
   "metadata": {
    "collapsed": true
   },
   "outputs": [],
   "source": [
    "# Python's built-in \"Counter\" class defines the control flow of iterators,\n",
    "# used in functions such as \"for i in range(0,10) ...\"\n",
    "\n",
    "class Counter(object):\n",
    "    def __init__(self, low, high):\n",
    "        self.current = low\n",
    "        self.high = high\n",
    "\n",
    "    def __iter__(self):\n",
    "        'Returns itself as an iterator object'\n",
    "        return self\n",
    "\n",
    "    def __next__(self):\n",
    "        'Returns the next value till current is lower than high'\n",
    "        if self.current > self.high:\n",
    "            raise StopIteration\n",
    "        else:\n",
    "            self.current += 1\n",
    "            return self.current - 1"
   ]
  },
  {
   "cell_type": "markdown",
   "metadata": {},
   "source": [
    "We can view the source code for a particular function, such as range, in the Python.org Mercurial Repository: https://hg.python.org/cpython/file/c6880edaf6f3/Objects/rangeobject.c"
   ]
  },
  {
   "cell_type": "code",
   "execution_count": 88,
   "metadata": {
    "collapsed": false
   },
   "outputs": [
    {
     "name": "stdout",
     "output_type": "stream",
     "text": [
      "0\n",
      "1\n",
      "4\n",
      "9\n",
      "16\n",
      "25\n",
      "36\n",
      "49\n",
      "64\n",
      "81\n"
     ]
    }
   ],
   "source": [
    "for i in range(0,10):\n",
    "    print i*i"
   ]
  },
  {
   "cell_type": "code",
   "execution_count": 78,
   "metadata": {
    "collapsed": false
   },
   "outputs": [
    {
     "data": {
      "text/plain": [
       "[8, 10, 12, 14, 16, 18]"
      ]
     },
     "execution_count": 78,
     "metadata": {},
     "output_type": "execute_result"
    }
   ],
   "source": [
    "# List comprehension (with filter)\n",
    "[a*2 for a in range(0,10) if a>3]"
   ]
  },
  {
   "cell_type": "markdown",
   "metadata": {},
   "source": [
    "#### Sneak-peek @ Advanced Topics\n",
    "\n",
    "- NumPy & SciPy\n",
    "- Pandas\n",
    "- Cython\n",
    "  - Translate Python scripts into C code, and compile to machine code."
   ]
  },
  {
   "cell_type": "code",
   "execution_count": 89,
   "metadata": {
    "collapsed": false
   },
   "outputs": [
    {
     "name": "stdout",
     "output_type": "stream",
     "text": [
      "The Zen of Python, by Tim Peters\n",
      "\n",
      "Beautiful is better than ugly.\n",
      "Explicit is better than implicit.\n",
      "Simple is better than complex.\n",
      "Complex is better than complicated.\n",
      "Flat is better than nested.\n",
      "Sparse is better than dense.\n",
      "Readability counts.\n",
      "Special cases aren't special enough to break the rules.\n",
      "Although practicality beats purity.\n",
      "Errors should never pass silently.\n",
      "Unless explicitly silenced.\n",
      "In the face of ambiguity, refuse the temptation to guess.\n",
      "There should be one-- and preferably only one --obvious way to do it.\n",
      "Although that way may not be obvious at first unless you're Dutch.\n",
      "Now is better than never.\n",
      "Although never is often better than *right* now.\n",
      "If the implementation is hard to explain, it's a bad idea.\n",
      "If the implementation is easy to explain, it may be a good idea.\n",
      "Namespaces are one honking great idea -- let's do more of those!\n"
     ]
    }
   ],
   "source": [
    "import this"
   ]
  },
  {
   "cell_type": "markdown",
   "metadata": {},
   "source": [
    "# 2. Tutorial 2: Never get in a data battle without Numpy arrays (Valerio Maggio)\n",
    "\n",
    "IPython Notebook: https://github.com/leriomaggio/numpy_euroscipy2015\n"
   ]
  },
  {
   "cell_type": "code",
   "execution_count": 33,
   "metadata": {
    "collapsed": false
   },
   "outputs": [
    {
     "data": {
      "text/plain": [
       "dtype('int64')"
      ]
     },
     "execution_count": 33,
     "metadata": {},
     "output_type": "execute_result"
    }
   ],
   "source": [
    "# We can infer the data type of an array structure (but not of int, list, etc.)\n",
    "a = np.array([1, 2, 3])\n",
    "a.dtype"
   ]
  },
  {
   "cell_type": "code",
   "execution_count": 55,
   "metadata": {
    "collapsed": false
   },
   "outputs": [
    {
     "name": "stdout",
     "output_type": "stream",
     "text": [
      "R(c) =  64.0\n",
      "I(c) =  0.0\n"
     ]
    }
   ],
   "source": [
    "# Typecast variables into float, complex numbers,\n",
    "b = np.float64(64)\n",
    "c = np.complex(b)\n",
    "print \"R(c) = \", c.real\n",
    "print \"I(c) = \", c.imag"
   ]
  },
  {
   "cell_type": "code",
   "execution_count": 58,
   "metadata": {
    "collapsed": false
   },
   "outputs": [
    {
     "data": {
      "text/plain": [
       "array([1, 1, 1, 1], dtype=int8)"
      ]
     },
     "execution_count": 58,
     "metadata": {},
     "output_type": "execute_result"
    }
   ],
   "source": [
    "# Specify type of array elements\n",
    "x = np.ones(4, 'int8')\n",
    "x"
   ]
  },
  {
   "cell_type": "code",
   "execution_count": 60,
   "metadata": {
    "collapsed": false
   },
   "outputs": [
    {
     "data": {
      "text/plain": [
       "array([0, 1, 1, 1], dtype=int8)"
      ]
     },
     "execution_count": 60,
     "metadata": {},
     "output_type": "execute_result"
    }
   ],
   "source": [
    "# Wrap-around\n",
    "x[0] = 256\n",
    "x"
   ]
  },
  {
   "cell_type": "code",
   "execution_count": 75,
   "metadata": {
    "collapsed": false
   },
   "outputs": [
    {
     "data": {
      "text/plain": [
       "array([('Four Minutes and Thirty Three Seconds', 1, 273.0)], \n",
       "      dtype=[('title', 'S40'), ('track', '<i4'), ('time', '<f4')])"
      ]
     },
     "execution_count": 75,
     "metadata": {},
     "output_type": "execute_result"
    }
   ],
   "source": [
    "# Define a new record and create an array of corresponding data types\n",
    "rt = np.dtype([('title', np.str_, 40), ('track', np.int32), ('time', np.float32)])\n",
    "songs = np.array([('Four Minutes and Thirty Three Seconds',1,273)], dtype=rt)\n",
    "songs"
   ]
  },
  {
   "cell_type": "markdown",
   "metadata": {},
   "source": [
    "#### numpy-100\n",
    "\n",
    "\"...a quick reference for new and old users and to provide also a set of exercices for those who teach.\"\n",
    "\n",
    "https://github.com/rougier/numpy-100"
   ]
  },
  {
   "cell_type": "markdown",
   "metadata": {
    "collapsed": true
   },
   "source": [
    "# 3. numexpr\n",
    "\n",
    "@ https://github.com/pydata/numexpr\n",
    "\n",
    "- JIT (Just-in-time) compilation for significant speed-up of numerial calculations\n",
    "  - numexpr evaluates multiple-operator array expressions many times faster than NumPy can. It accepts the expression as a string, analyzes it, rewrites it more efficiently, and compiles it on the fly into code for its internal virtual machine (VM). Due to its integrated just-in-time (JIT) compiler, it does not require a compiler at runtime.\n",
    "\n",
    "- Multithreading to make use of multiple CPU cores\n",
    "  - numexpr implements support for multi-threading computations straight into its internal virtual machine, written in C. This allows to bypass the GIL in Python, and allows near-optimal parallel performance in your vector expressions, most specially on CPU-bounded operations (memory-bounded ones were already the strong point of numexpr).\n",
    "\n",
    "- Can be used to evaluate expressions in NumPy and Pandas\n",
    "\n",
    "Ex: https://code.google.com/p/numexpr/\n",
    "\n",
    "cf. https://github.com/leriomaggio/numpy_euroscipy2015/blob/master/06_Numexpr.ipynb"
   ]
  },
  {
   "cell_type": "code",
   "execution_count": null,
   "metadata": {
    "collapsed": true
   },
   "outputs": [],
   "source": []
  },
  {
   "cell_type": "code",
   "execution_count": 27,
   "metadata": {
    "collapsed": false
   },
   "outputs": [
    {
     "name": "stdout",
     "output_type": "stream",
     "text": [
      "NumPy   >> \n",
      "The slowest run took 20.55 times longer than the fastest. This could mean that an intermediate result is being cached \n",
      "10000 loops, best of 3: 28 µs per loop\n"
     ]
    }
   ],
   "source": [
    "import numexpr as ne\n",
    "import numpy as np\n",
    "\n",
    "a = np.arange(1e4)\n",
    "b = np.arange(1e4)\n",
    "\n",
    "print \"NumPy   >> \" \n",
    "%timeit c = (a*b-4.1*a > 2.5*b)"
   ]
  },
  {
   "cell_type": "code",
   "execution_count": 28,
   "metadata": {
    "collapsed": false
   },
   "outputs": [
    {
     "name": "stdout",
     "output_type": "stream",
     "text": [
      "NumExpr >> \n",
      "1000 loops, best of 3: 473 µs per loop\n"
     ]
    }
   ],
   "source": [
    "print \"NumExpr >> \"\n",
    "%timeit ne.evaluate('a*b-4.1*a > 2.5*b')\n",
    "# %timeit ne.evaluate('4*a*b-b')\n",
    "\n",
    "# %timeit a*b-4.1*a > 2.5*b\n",
    "# %timeit ne.evaluate('a*b-4.1*a > 2.5*b')"
   ]
  },
  {
   "cell_type": "markdown",
   "metadata": {},
   "source": [
    "\n"
   ]
  },
  {
   "cell_type": "code",
   "execution_count": 76,
   "metadata": {
    "collapsed": true
   },
   "outputs": [],
   "source": []
  },
  {
   "cell_type": "markdown",
   "metadata": {},
   "source": [
    "## 4. Interesting talks\n",
    "\n",
    "#### ReScience (Nicolas Rougier)\n",
    "\n",
    "https://www.euroscipy.org/2015/schedule/presentation/17/\n",
    "\n",
    "@ https://github.com/ReScience/ReScience/wiki\n",
    "\n",
    "<img src=\"pix/ReScience.png\">\n",
    "\n",
    "#### Massively parallel implementation in Python of a pseudo-spectral DNS code for turbulent flows (Mikael Mortensen)\n",
    "https://www.euroscipy.org/2015/schedule/presentation/6/\n",
    "\n",
    "A Navier-Stokes equations solver using only Python's numpy & mpi4py that can perform nearly as fast as a C++ implementation on multiple cores. (adding some Cython further optimises performance, getting even closer to C++)\n",
    "\n",
    "<img src=\"pix/MikaelMortensen.png\">\n",
    "\n",
    "#### Dashboarding with the IPython notebook for online introspection into long-running experiments (Thomas Greg Corcoran)\n",
    "https://www.euroscipy.org/2015/schedule/presentation/19/\n",
    "\n",
    "Query data while an experiment is running.\n",
    "\n",
    "#### HoloViews: Building complex visualizations easily for reproducible science (Jean-Luc Stevens, Philipp Rudiger)\n",
    "https://www.euroscipy.org/2015/schedule/presentation/18/\n",
    "\n",
    "http://ioam.github.io/holoviews/\n",
    "\n"
   ]
  },
  {
   "cell_type": "code",
   "execution_count": null,
   "metadata": {
    "collapsed": true
   },
   "outputs": [],
   "source": []
  }
 ],
 "metadata": {
  "kernelspec": {
   "display_name": "Python 2",
   "language": "python",
   "name": "python2"
  },
  "language_info": {
   "codemirror_mode": {
    "name": "ipython",
    "version": 2
   },
   "file_extension": ".py",
   "mimetype": "text/x-python",
   "name": "python",
   "nbconvert_exporter": "python",
   "pygments_lexer": "ipython2",
   "version": "2.7.10"
  }
 },
 "nbformat": 4,
 "nbformat_minor": 0
}
