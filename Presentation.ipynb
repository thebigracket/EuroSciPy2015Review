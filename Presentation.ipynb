{
 "cells": [
  {
   "cell_type": "markdown",
   "metadata": {},
   "source": [
    "TITLE: EuroSciPy2015\n",
    "\n",
    "1. Tutorial 1. An Introduction to Python (Joris Vankerschaver)\n",
    "iPython Notebook: https://github.com/jvkersch/python-tutorial-files\n",
    "\n",
    "1.1 iPython Notebooks aka Jupyter Notebooks\n",
    ">> Interactive programming + simultaneous documentation\n",
    "\n",
    "We have adopted the Notebook for this presentation as a practical exercise.\n",
    "\n",
    "1.2 An overview of basic Python syntax and data structures.\n",
    "lists of lists\n",
    "tuples\n",
    "dictionaries\n",
    "\n",
    "mutable vs immutable objects\n",
    "\n",
    "set\n",
    "enumerate\n",
    "\n",
    "read from / write to files\n",
    "\n",
    "Control structures ??\n",
    "\n",
    "Ex: list comprehension\n",
    "\n",
    "\n",
    "\n",
    "2. Tutorial 2: Never get in a data battle without Numpy arrays (Valerio Maggio)\n",
    "\n",
    "Numpy tutorial \n",
    "\n",
    "+ Numpy 100\n",
    "\n",
    "https://github.com/rougier/numpy-100\n",
    "\n",
    "\n",
    "\n",
    "3. numexpr\n",
    "\n",
    "\n",
    "\n",
    "4. PyQT scientific\n",
    "\n",
    "\n",
    "\n",
    "5. ReScience\n",
    "\n",
    "\n",
    "\n",
    "6. pick a favourite talk... HoloViews? http://ioam.github.io/holoviews/\n",
    "\n",
    "\n",
    "\n",
    "7. Hintjens\n",
    "\n",
    "8. Thomas Greg Corcoran: Dashboarding with the IPython notebook for online introspection into long-runni  ng experiments\n",
    "https://www.euroscipy.org/2015/schedule/presentation/19/\n",
    "\n"
   ]
  },
  {
   "cell_type": "markdown",
   "metadata": {},
   "source": [
    "intntntnnt"
   ]
  },
  {
   "cell_type": "code",
   "execution_count": null,
   "metadata": {
    "collapsed": true
   },
   "outputs": [],
   "source": [
    "pip install ipython-notebook"
   ]
  },
  {
   "cell_type": "code",
   "execution_count": null,
   "metadata": {
    "collapsed": true
   },
   "outputs": [],
   "source": [
    "ipython notebook"
   ]
  },
  {
   "cell_type": "markdown",
   "metadata": {},
   "source": [
    "# Accessing Python's Source Code\n",
    "\n",
    "We can get help for a built-in Python function, such as range, with a single question mark:"
   ]
  },
  {
   "cell_type": "code",
   "execution_count": 2,
   "metadata": {
    "collapsed": true
   },
   "outputs": [],
   "source": [
    "range?"
   ]
  },
  {
   "cell_type": "markdown",
   "metadata": {},
   "source": [
    "And we can read the source code of built-in functions with a double question mark (or by downloading the source from the Python.org Mercurial repositories): https://hg.python.org/"
   ]
  },
  {
   "cell_type": "code",
   "execution_count": 5,
   "metadata": {
    "collapsed": true
   },
   "outputs": [],
   "source": [
    "range??"
   ]
  },
  {
   "cell_type": "code",
   "execution_count": 1,
   "metadata": {
    "collapsed": false
   },
   "outputs": [],
   "source": [
    "import inspect\n",
    "# inspect.getsourcefile(range)"
   ]
  },
  {
   "cell_type": "code",
   "execution_count": null,
   "metadata": {
    "collapsed": true
   },
   "outputs": [],
   "source": [
    "# Python's built-in \"Counter\" class defines the control flow of iterators,\n",
    "# used in functions such as \"for i in range(0,10) ...\"\n",
    "\n",
    "class Counter(object):\n",
    "    def __init__(self, low, high):\n",
    "        self.current = low\n",
    "        self.high = high\n",
    "\n",
    "    def __iter__(self):\n",
    "        'Returns itself as an iterator object'\n",
    "        return self\n",
    "\n",
    "    def __next__(self):\n",
    "        'Returns the next value till current is lower than high'\n",
    "        if self.current > self.high:\n",
    "            raise StopIteration\n",
    "        else:\n",
    "            self.current += 1\n",
    "            return self.current - 1"
   ]
  },
  {
   "cell_type": "markdown",
   "metadata": {},
   "source": [
    "We can view the source code for a particular function, such as range, in the Python.org Mercurial Repository: https://hg.python.org/cpython/file/c6880edaf6f3/Objects/rangeobject.c"
   ]
  },
  {
   "cell_type": "code",
   "execution_count": 1,
   "metadata": {
    "collapsed": false
   },
   "outputs": [
    {
     "name": "stdout",
     "output_type": "stream",
     "text": [
      "1\n",
      "1\n",
      "4\n",
      "27\n",
      "256\n",
      "3125\n",
      "46656\n",
      "823543\n",
      "16777216\n",
      "387420489\n"
     ]
    }
   ],
   "source": [
    "for i in range(0,10):\n",
    "    print i**i"
   ]
  },
  {
   "cell_type": "markdown",
   "metadata": {},
   "source": [
    "# 2. Tutorial 2: Never get in a data battle without Numpy arrays (Valerio Maggio)"
   ]
  },
  {
   "cell_type": "markdown",
   "metadata": {
    "collapsed": true
   },
   "source": [
    "# 3. numexpr\n",
    "\n",
    "\"Fast numerical array expression evaluator for Python, NumPy, PyTables, pandas, bcolz and more\"\n",
    "https://github.com/pydata/numexpr\n",
    "\n",
    "\"The numexpr package evaluates multiple-operator array expressions many times faster than NumPy can. It accepts the expression as a string, analyzes it, rewrites it more efficiently, and compiles it on the fly into code for its internal virtual machine (VM). Due to its integrated just-in-time (JIT) compiler, it does not require a compiler at runtime.\n",
    "\n",
    "Also,numexpr implements support for multi-threading computations straight into its internal virtual machine, written in C. This allows to bypass the GIL in Python, and allows near-optimal parallel performance in your vector expressions, most specially on CPU-bounded operations (memory-bounded ones were already the strong point of numexpr).\""
   ]
  },
  {
   "cell_type": "code",
   "execution_count": null,
   "metadata": {
    "collapsed": true
   },
   "outputs": [],
   "source": []
  }
 ],
 "metadata": {
  "kernelspec": {
   "display_name": "Python 2",
   "language": "python",
   "name": "python2"
  },
  "language_info": {
   "codemirror_mode": {
    "name": "ipython",
    "version": 2
   },
   "file_extension": ".py",
   "mimetype": "text/x-python",
   "name": "python",
   "nbconvert_exporter": "python",
   "pygments_lexer": "ipython2",
   "version": "2.7.10"
  }
 },
 "nbformat": 4,
 "nbformat_minor": 0
}
